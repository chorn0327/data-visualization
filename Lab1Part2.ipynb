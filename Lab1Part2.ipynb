{
 "cells": [
  {
   "cell_type": "code",
   "execution_count": 1,
   "metadata": {
    "collapsed": true
   },
   "outputs": [],
   "source": [
    "import numpy as np\n",
    "import pandas as pd\n",
    "import operator\n",
    "from IPython.display import display, HTML\n",
    "import math\n",
    "from collections import defaultdict\n",
    "import matplotlib.pyplot as plt\n",
    "\n"
   ]
  },
  {
   "cell_type": "code",
   "execution_count": 2,
   "metadata": {},
   "outputs": [
    {
     "name": "stdout",
     "output_type": "stream",
     "text": [
      "1.1 Compute the total number of wins for each of the teams in MLB over 2011-2015, sort them in a descending order.\n",
      "SLN 465\n",
      "NYA 448\n",
      "LAN 446\n",
      "WAS 443\n",
      "DET 440\n",
      "LAA 436\n",
      "TEX 435\n",
      "PIT 431\n",
      "TBA 430\n",
      "SFN 428\n",
      "ATL 425\n",
      "BAL 424\n",
      "OAK 420\n",
      "KCA 413\n",
      "CIN 406\n",
      "CLE 406\n",
      "BOS 405\n",
      "TOR 404\n",
      "MIL 403\n",
      "ARI 399\n",
      "NYN 394\n",
      "PHI 392\n",
      "CHA 376\n",
      "SEA 376\n",
      "SDN 374\n",
      "CHN 368\n",
      "MIN 348\n",
      "COL 345\n",
      "HOU 318\n",
      "MIA 279\n",
      "FLO 72\n"
     ]
    }
   ],
   "source": [
    "\n",
    "#Task 1\n",
    "#1.1 Compute the total number of wins for each of the teams in MLB over 2011-2015, sort them in a descending order.\n",
    "print(\"1.1 Compute the total number of wins for each of the teams in MLB over 2011-2015, sort them in a descending order.\")\n",
    "mlbTeams = pd.read_csv('teams.csv')\n",
    "\n",
    "# mlbTeams.set_index('yearID')\n",
    "pd.options.display.max_columns = None\n",
    "pd.options.display.max_rows = None\n",
    "\n",
    "# display(mlbTeams.loc[:,'teamID'])\n",
    "def getTeamsByYear(mT, year):\n",
    "    mlbTeamsByYear = mT.loc[mT['yearID'] == year]\n",
    "    return mlbTeamsByYear\n",
    "\n",
    "def getVarList(df, var):\n",
    "    return df[var].unique()\n",
    "\n",
    "# teamList = getVarList(mlbTeams, 'teamID')\n",
    "\n",
    "Teams15 = {}\n",
    "mlbT = []\n",
    "mlbTeamWins = {}\n",
    "for year in range(2011, 2016):\n",
    "    Teams15[year] = (getTeamsByYear(mlbTeams, year))\n",
    "\n",
    "\n",
    "mlbTeamWins = defaultdict(lambda:0,mlbTeamWins)\n",
    "\n",
    "for year in range(2011,2016):\n",
    "    for team in getVarList(Teams15[year], 'teamID'):\n",
    "        temp = Teams15[year].loc[Teams15[year]['teamID'] == team]\n",
    "        mlbTeamWins[team] = mlbTeamWins[team] + (int)(temp['W'])\n",
    "\n",
    "      \n",
    "sortedMlb = sorted(mlbTeamWins.items(), key=lambda x: x[1], reverse=True)\n",
    "for i in range(0,len(sortedMlb)):\n",
    "    print(sortedMlb[i][0] + ' ' + str(sortedMlb[i][1]))\n"
   ]
  },
  {
   "cell_type": "code",
   "execution_count": 76,
   "metadata": {},
   "outputs": [
    {
     "name": "stdout",
     "output_type": "stream",
     "text": [
      "1.2)  Compute the average payroll per year for all teams over 2011-2015, sort them in a descending order \n",
      "Team   Salary (USD)\n",
      "NYA    1023587567.0\n",
      "LAN    852006370.0\n",
      "PHI    806688473.0\n",
      "BOS    772509992.0\n",
      "SFN    697731017.0\n",
      "DET    694729981.0\n",
      "LAA    652846247.0\n",
      "TEX    575815686.0\n",
      "WAS    545091493.0\n",
      "CHA    538977977.0\n",
      "SLN    526132141.0\n",
      "CHN    494224648.0\n",
      "TOR    484752600.0\n",
      "CIN    477067307.0\n",
      "MIN    467177000.0\n",
      "BAL    464812203.0\n",
      "MIL    460965310.0\n",
      "SEA    450450043.0\n",
      "ATL    425314409.0\n",
      "NYN    422328604.0\n",
      "COL    404538813.0\n",
      "ARI    376762166.0\n",
      "CLE    360305831.0\n",
      "SDN    359997440.0\n",
      "KCA    353169050.0\n",
      "PIT    350264498.0\n",
      "OAK    328380901.0\n",
      "TBA    293211976.0\n",
      "HOU    254017800.0\n",
      "MIA    251593300.0\n",
      "FLO    56944000.0\n"
     ]
    }
   ],
   "source": [
    "#Task 2\n",
    "# 1.2)  Compute the average payroll per year for all teams over 2011-2015, sort them in a descending order \n",
    "print(\"1.2)  Compute the average payroll per year for all teams over 2011-2015, sort them in a descending order \")\n",
    "\n",
    "mlbPlayers = pd.read_csv('players.csv')\n",
    "\n",
    "mlbPlayersByYear = mlbPlayers.loc[mlbPlayers['yearID'].between(2011,2016)]\n",
    "# print(mlbPlayersByYear)\n",
    "\n",
    "\n",
    "teamNames = getVarList(mlbPlayersByYear, 'teamID')\n",
    "teamPlayers = {elem: pd.DataFrame for elem in teamNames}\n",
    "for key in teamPlayers.keys():\n",
    "    teamPlayers[key] = mlbPlayersByYear[mlbPlayersByYear.teamID == key]\n",
    "\n",
    "teamSalary = {}\n",
    "teamSalary = {elem: pd.DataFrame for elem in teamNames}\n",
    "for team in teamPlayers.keys():\n",
    "    teamSalary[team] = teamPlayers[team]['salary'].sum()\n",
    "    \n",
    "    \n",
    "sortedMlbSalary = sorted(teamSalary.items(), key=lambda x: x[1], reverse=True)\n",
    "print('Team   Salary (USD)')\n",
    "for i in range(0,len(sortedMlbSalary)):\n",
    "   \n",
    "    print(sortedMlbSalary[i][0] + '    ' + str(sortedMlbSalary[i][1]))\n"
   ]
  },
  {
   "cell_type": "code",
   "execution_count": 77,
   "metadata": {
    "collapsed": true
   },
   "outputs": [],
   "source": [
    "df = pd.DataFrame(columns=['team', 'salary', 'wins'])\n",
    "pd.set_option('display.float_format', lambda x: '%.3f' % x)\n",
    "\n",
    "\n",
    "so = pd.DataFrame(sortedMlb)\n",
    "for i in range(0,len(sortedMlbSalary)):\n",
    "    arow = []\n",
    "    t = sortedMlbSalary[i][0]\n",
    "    s = sortedMlbSalary[i][1] \n",
    "    arow.append(t)\n",
    "    arow.append(s)\n",
    "    z = so.loc[so[0] == t][1]\n",
    "    arow.append(int(z))\n",
    "    df.loc[len(df)] = arow\n",
    "    \n",
    "    \n"
   ]
  },
  {
   "cell_type": "code",
   "execution_count": 78,
   "metadata": {},
   "outputs": [
    {
     "data": {
      "image/png": "[encoded data removed]",
      "text/plain": [
       "<matplotlib.figure.Figure at 0x10e4204a8>"
      ]
     },
     "metadata": {},
     "output_type": "display_data"
    },
    {
     "name": "stdout",
     "output_type": "stream",
     "text": [
      "I would not say that the data shows that a team's payroll is strongly correlated to their winning record.\n",
      "Most of the teams have an average of greater than 400 wins while the payroll numbers for those teams range from 400 million to 1 billion dollars.\n"
     ]
    }
   ],
   "source": [
    "#Task 3\n",
    "# 1.3)  Create a visualization of your choice which will all allow you to show whether a team’s winning record is \n",
    "# related to its payroll. So is a team’s winning record related to its payroll? \n",
    "\n",
    "plt.scatter(df['salary'], df['wins'])\n",
    "plt.xlabel('Total Payroll for Team over 2011-2015')\n",
    "plt.ylabel('Total Number of Wins for Team over 2011-2015')\n",
    "ax = plt.gca()\n",
    "ax.grid()\n",
    "ax.get_xaxis().get_major_formatter().set_scientific(False)\n",
    "plt.title(\"Team's Payroll verses Number of Wins\")\n",
    "\n",
    "plt.show()\n",
    "\n",
    "\n",
    "print('I would not say that the data shows that a team\\'s payroll is strongly correlated to their winning record.')\n",
    "print('Most of the teams have an average of greater than 400 wins while the payroll numbers for those teams range from 400 million to 1 billion dollars.')"
   ]
  },
  {
   "cell_type": "code",
   "execution_count": 79,
   "metadata": {
    "collapsed": true
   },
   "outputs": [],
   "source": [
    "\n",
    "Teams15 = {}\n",
    "mlbT = []\n",
    "mlbTeamWins = {}\n",
    "mlbTeamLs = {}\n",
    "\n",
    "for year in range(2011, 2016):\n",
    "    Teams15[year] = (getTeamsByYear(mlbTeams, year))\n",
    "\n",
    "\n",
    "mlbTeamWins = defaultdict(lambda:0,mlbTeamWins)\n",
    "mlbTeamLs = defaultdict(lambda:0,mlbTeamLs)\n",
    "\n",
    "for year in range(2011,2016):\n",
    "    wins = 0\n",
    "    for team in getVarList(Teams15[year], 'teamID'):\n",
    "        temp = Teams15[year].loc[Teams15[year]['teamID'] == team]\n",
    "        wins = wins + (int)(temp['W'])\n",
    "        mlbTeamWins[team] = mlbTeamWins[team] + (int)(temp['W'])\n",
    "        mlbTeamLs[team] = mlbTeamLs[team] + (int)(temp['L'])"
   ]
  },
  {
   "cell_type": "code",
   "execution_count": 83,
   "metadata": {},
   "outputs": [
    {
     "name": "stdout",
     "output_type": "stream",
     "text": [
      "Batting Average for each team, cumulatively over the years 2011-2015\n",
      "DET 0.275054446784962\n",
      "COL 0.2686353211009174\n",
      "TEX 0.26646286639093686\n",
      "KCA 0.2662186796296958\n",
      "BOS 0.26548515414121326\n",
      "SLN 0.26392961876832843\n",
      "LAA 0.2592579224716668\n",
      "SFN 0.2586692674469007\n",
      "LAN 0.2575247162211644\n",
      "ARI 0.25626801152737755\n",
      "MIL 0.2548869438366156\n",
      "TOR 0.2548026482399334\n",
      "BAL 0.25400416576887164\n",
      "NYA 0.2533478497550354\n",
      "CLE 0.2530440155562825\n",
      "WAS 0.2519117325759231\n",
      "CHA 0.251708304710944\n",
      "PIT 0.250382012660991\n",
      "MIN 0.250009042572431\n",
      "PHI 0.24928728663707553\n",
      "CIN 0.24856645133193003\n",
      "TBA 0.2477623935995324\n",
      "MIA 0.24685886599351214\n",
      "NYN 0.2466314111851637\n",
      "FLO 0.24655047204066813\n",
      "OAK 0.2462289744981009\n",
      "ATL 0.2462062898614471\n",
      "HOU 0.24499415375621164\n",
      "CHN 0.24339876898422988\n",
      "SDN 0.23960600582875272\n",
      "SEA 0.23930534823606509\n"
     ]
    }
   ],
   "source": [
    "# 2.1)  Compute the Batting Averages  for each of the MLB teams over 2011-2015, sort them in a descending order. \n",
    "# The Batting Average is defined as Hits/At Bats. The average is calculated from all players in each team.\n",
    "print('Batting Average for each team, cumulatively over the years 2011-2015')\n",
    "habwl = pd.DataFrame(columns=['teamID', 'hits/at bats', 'win/loss'])\n",
    "\n",
    "mlbPlayersByYear = mlbPlayers.loc[mlbPlayers['yearID'].between(2011,2016)]\n",
    "\n",
    "\n",
    "\n",
    "teamNames = getVarList(mlbPlayersByYear, 'teamID')\n",
    "teamPlayers = {elem: pd.DataFrame for elem in teamNames}\n",
    "for key in teamPlayers.keys():\n",
    "    teamPlayers[key] = mlbPlayersByYear[mlbPlayersByYear.teamID == key]\n",
    "\n",
    "teamHitsAtBats = {}\n",
    "teamHitsAtBats = {elem: pd.DataFrame for elem in teamNames}\n",
    "for team in teamPlayers.keys():\n",
    "    arow = []\n",
    "    h = teamPlayers[team]['H'].sum()\n",
    "    b = teamPlayers[team]['AB'].sum()\n",
    "    w = mlbTeamWins[team]\n",
    "    l = mlbTeamLs[team]\n",
    "\n",
    "    wl = w/l\n",
    "    hab = h/b\n",
    "    arow.append(team)\n",
    "    arow.append(hab)\n",
    "    arow.append(wl)\n",
    "    \n",
    "    habwl.loc[len(habwl)] = arow\n",
    "    teamHitsAtBats[team] =  hab\n",
    "\n",
    "sortedHAB = sorted(teamHitsAtBats.items(), key=lambda x: x[1], reverse=True)\n",
    "for i in range(0,len(sortedHAB)):\n",
    "    print(sortedHAB[i][0] +  ' ' + str(sortedHAB[i][1]))\n"
   ]
  },
  {
   "cell_type": "code",
   "execution_count": 85,
   "metadata": {},
   "outputs": [
    {
     "data": {
      "image/png": "[encoded data removed]",
      "text/plain": [
       "<matplotlib.figure.Figure at 0x10b8f26d8>"
      ]
     },
     "metadata": {},
     "output_type": "display_data"
    },
    {
     "name": "stdout",
     "output_type": "stream",
     "text": [
      "I would say that the team's winning record is related to its batting average. There seems to be a positive \n",
      "correlation between higher batting average and higher win-loss record.\n"
     ]
    }
   ],
   "source": [
    "# 2.2) Create a visualization of your choice which will allow you to decide whether a team’s batting average \n",
    "# is related to its win-loss record. So is a team’s winning record related to its batting average? \n",
    "\n",
    "plt.scatter(habwl['hits/at bats'], habwl['win/loss'])\n",
    "plt.xlabel('Team\\'s Batting Average')\n",
    "plt.ylabel('Team\\'s Win-Loss Record')\n",
    "ax = plt.gca()\n",
    "ax.grid()\n",
    "ax.get_xaxis().get_major_formatter().set_scientific(False)\n",
    "plt.title(\"Team's Batting Average verses Win Loss Record\")\n",
    "\n",
    "plt.show()\n",
    "\n",
    "\n",
    "print('I would say that the team\\'s winning record is related to its batting average. There seems to be a positive \\ncorrelation between higher batting average and higher win-loss record.')"
   ]
  },
  {
   "cell_type": "code",
   "execution_count": 86,
   "metadata": {},
   "outputs": [
    {
     "name": "stdout",
     "output_type": "stream",
     "text": [
      "Average ERA for each team in years 2011 to 2015 cumulative\n",
      "teamID   ERA\n",
      "  TOR 6.181\n",
      "  LAA 5.914\n",
      "  NYA 5.849\n",
      "  NYN 5.800\n",
      "  COL 5.771\n",
      "  DET 5.490\n",
      "  CHN 5.310\n",
      "  HOU 5.276\n",
      "  ARI 5.140\n",
      "  PHI 5.056\n",
      "  KCA 5.023\n",
      "  BAL 5.022\n",
      "  BOS 4.987\n",
      "  CIN 4.864\n",
      "  CHA 4.740\n",
      "  FLO 4.737\n",
      "  SLN 4.714\n",
      "  MIN 4.700\n",
      "  LAN 4.683\n",
      "  TEX 4.681\n",
      "  SEA 4.609\n",
      "  CLE 4.527\n",
      "  MIL 4.379\n",
      "  OAK 4.357\n",
      "  TBA 4.238\n",
      "  SFN 4.224\n",
      "  SDN 4.190\n",
      "  WAS 4.114\n",
      "  PIT 4.113\n",
      "  ATL 4.015\n"
     ]
    }
   ],
   "source": [
    "# 3.1) Display the average ERA (Earned Run Average) for each of the MLB teams in 2011-2015, \n",
    "# sort them in a descending order. A lower ERA indicates a better pitching performance. \n",
    "\n",
    "mlb = pd.DataFrame.from_csv('pitching.csv')\n",
    "\n",
    "def getPitchersByYear(year):\n",
    "    pitchers = mlb.loc[mlb['yearID'] == year]\n",
    "    pitchers = pitchers.dropna(subset = ['ERA'])\n",
    "    return pitchers\n",
    "\n",
    "def calculateAvgOfColumnForTeams(teamPitchers,Var): #takes into account how many pitchers\n",
    "    teamAvg = {}\n",
    "    for team in teamPitchers.keys():\n",
    "        teamAvg[team] = (sum(teamPitchers[team][Var]) / len(teamPitchers[team]))\n",
    "    return teamAvg\n",
    "\n",
    "def getTeamPitchers(pitchers):\n",
    "    teamNames = getVarList(pitchers, 'teamID')\n",
    "    teamPitchers = {elem: pd.DataFrame for elem in teamNames}\n",
    "    for key in teamPitchers.keys():\n",
    "        teamPitchers[key] = pitchers[pitchers.teamID == key]\n",
    "    return teamPitchers\n",
    "\n",
    "\n",
    "pitchers1115 = {}\n",
    "for x in range(2011, 2016):\n",
    "    pitchers1115[x] = getPitchersByYear(x)\n",
    "\n",
    "\n",
    "# for p in game.players.passing():\n",
    "#     d.append({'Player': p, 'Team': p.team, 'Passer Rating':\n",
    "#         p.passer_rating()})\n",
    "\n",
    "# pd.DataFrame(d)\n",
    "# ERA = 9 × Earned Runs Allowed / Innings Pitched\n",
    "\n",
    "\n",
    "teamAvg = {}\n",
    "f = []\n",
    "teamlist = getVarList(pitchers1115[2011], \"teamID\")\n",
    "for year in pitchers1115.keys():\n",
    "    teamAvg = calculateAvgOfColumnForTeams(getTeamPitchers(pitchers1115[year]), 'ERA')\n",
    "    f.append(teamAvg)\n",
    "    \n",
    "# print(f)    \n",
    "avgERATab=[['teamID','ERA']]\n",
    "\n",
    "for team in teamlist:\n",
    "    r = []\n",
    "    r.append(team)\n",
    "    x = np.float64(0)\n",
    "    for i in range(0,5):\n",
    "        y = f[i].get(team)\n",
    "        if y is not None:\n",
    "            x = x + y\n",
    "        \n",
    "    \n",
    "    if team != 'FLO':\n",
    "        x = x / 5\n",
    "\n",
    "    r.append(x)\n",
    "    \n",
    "    avgERATab.append(r)\n",
    "print('Average ERA for each team in years 2011 to 2015 cumulative')\n",
    "df = pd.DataFrame(avgERATab, index=None)\n",
    "df.columns = df.iloc[0]\n",
    "df.drop(df.index[0], inplace=True)\n",
    "df = df.sort_values(by=['ERA'],  ascending=False)\n",
    "pd.options.display.float_format = '{:,.3f}'.format\n",
    "# df.set_index('teamID', inplace=True)\n",
    "print(df.to_string(index=False))\n"
   ]
  },
  {
   "cell_type": "code",
   "execution_count": 87,
   "metadata": {},
   "outputs": [
    {
     "data": {
      "image/png": "[encoded data removed]",
      "text/plain": [
       "<matplotlib.figure.Figure at 0x10f7c7978>"
      ]
     },
     "metadata": {},
     "output_type": "display_data"
    },
    {
     "name": "stdout",
     "output_type": "stream",
     "text": [
      "A lower ERA indicates a better pitching performance. I would say that there is a slight correlation between a lower ERA and a higher Win/Loss Record. There is a concentration of teams that have a winning record (Win/Loss > 1.0) and a good pitching performance (ERA < 5.0)\n"
     ]
    }
   ],
   "source": [
    "# 3.2) Create a visualization of your choice which will allow you to decide if a team’s win-loss record is \n",
    "# related to its pitching performance. So is a team’s winning record related to its pitching performance? \n",
    "\n",
    "\n",
    "pitchingwl = pd.merge(df, habwl,how='right', on=['teamID'])\n",
    "pitchingwl = pitchingwl.drop(['hits/at bats'], axis=1)\n",
    "pitchingwl\n",
    "\n",
    "\n",
    "plt.scatter( pitchingwl['win/loss'],pitchingwl['ERA'])\n",
    "plt.xlabel('Team\\'s Win-Loss Record')\n",
    "plt.ylabel('Team\\'s Pitching Performance (ERA)')\n",
    "ax = plt.gca()\n",
    "ax.grid()\n",
    "ax.get_xaxis().get_major_formatter().set_scientific(False)\n",
    "plt.title(\"Team's Win Loss Record verses Pitching Performance\")\n",
    "\n",
    "plt.show()\n",
    "\n",
    "print('A lower ERA indicates a better pitching performance. I would say that there is a slight correlation between a lower ERA and a higher Win/Loss Record. There is a concentration of teams that have a winning record (Win/Loss > 1.0) and a good pitching performance (ERA < 5.0)')\n"
   ]
  },
  {
   "cell_type": "code",
   "execution_count": null,
   "metadata": {},
   "outputs": [],
   "source": []
  },
  {
   "cell_type": "code",
   "execution_count": null,
   "metadata": {},
   "outputs": [],
   "source": []
  },
  {
   "cell_type": "code",
   "execution_count": null,
   "metadata": {
    "collapsed": true
   },
   "outputs": [],
   "source": []
  }
 ],
 "metadata": {
  "kernelspec": {
   "display_name": "Python 3",
   "language": "python",
   "name": "python3"
  },
  "language_info": {
   "codemirror_mode": {
    "name": "ipython",
    "version": 3
   },
   "file_extension": ".py",
   "mimetype": "text/x-python",
   "name": "python",
   "nbconvert_exporter": "python",
   "pygments_lexer": "ipython3",
   "version": "3.6.4"
  }
 },
 "nbformat": 4,
 "nbformat_minor": 2
}
